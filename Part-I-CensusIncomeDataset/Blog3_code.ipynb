{
 "cells": [
  {
   "cell_type": "code",
   "execution_count": null,
   "metadata": {},
   "outputs": [],
   "source": [
    "import pandas as pd\n",
    "from sklearn.ensemble import RandomForestClassifier\n",
    "from imblearn.over_sampling import SMOTE"
   ]
  },
  {
   "cell_type": "markdown",
   "metadata": {},
   "source": [
    "## Load data and set up X, y variables"
   ]
  },
  {
   "cell_type": "code",
   "execution_count": null,
   "metadata": {},
   "outputs": [],
   "source": [
    "#Load the training set\n",
    "df_train = pd.read_csv('../data/large_train_sample.csv')\n",
    "#Drop outlier (99999) found in capital gain that is awfully suspiciousand and either a rare event or a mistake\n",
    "df_train = df_train.loc[df_train['capital-gain'] < 90000]\n",
    "# Drop rows with hours per week greater than 90\n",
    "df_train = df_train.loc[df_train['hours-per-week'] < 90]\n",
    "# Drop column 'native-country', 90% of this column have the same value\n",
    "df_train.drop(columns=['native-country'], inplace=True)\n",
    "# Use one hot encoding to convert categorical columns\n",
    "df_train = pd.get_dummies(df_train, columns = \n",
    "                          ['workclass','marital-status','occupation','relationship', 'sex','education'])"
   ]
  },
  {
   "cell_type": "code",
   "execution_count": null,
   "metadata": {},
   "outputs": [],
   "source": [
    "# Set up X, y variables\n",
    "X_train = df_train.drop(columns='wage')\n",
    "y_train = df_train['wage']"
   ]
  },
  {
   "cell_type": "code",
   "execution_count": null,
   "metadata": {},
   "outputs": [],
   "source": [
    "#Loading the testing set and set up X, y variables\n",
    "X_test = pd.read_csv('../data/test_data.csv')\n",
    "X_test = pd.get_dummies(X_test, columns = \n",
    "                       ['workclass','marital-status','occupation','relationship', 'sex','education'])\n",
    "X_test.drop(columns='native-country',inplace=True)\n",
    "y_test = pd.read_csv('../data/y_test.csv')\n",
    "y_test = y_test['wage']"
   ]
  },
  {
   "cell_type": "markdown",
   "metadata": {},
   "source": [
    "## Fit with RandomForestClassifier "
   ]
  },
  {
   "cell_type": "code",
   "execution_count": null,
   "metadata": {},
   "outputs": [],
   "source": [
    "# Instantiate the RandomForest Model\n",
    "rf1 = RandomForestClassifier(max_depth=15,\n",
    "                             min_samples_leaf=1,\n",
    "                             min_samples_split=6,\n",
    "                             n_estimators=100,\n",
    "                             random_state=42)\n",
    "# Fit the model to data\n",
    "rf1.fit(X_train, y_train)\n",
    "# Accuracy of training and testing\n",
    "print(f'accuracy of training set is {round(rf1.score(X_train, y_train),4)}')\n",
    "print(f'accuracy of testing set is {round(rf1.score(X_test, y_test),4)}')"
   ]
  },
  {
   "cell_type": "markdown",
   "metadata": {},
   "source": [
    "## Create balanced training and testing with SMOTE"
   ]
  },
  {
   "cell_type": "code",
   "execution_count": null,
   "metadata": {},
   "outputs": [],
   "source": [
    "# Instantiate SMOTE\n",
    "smt = SMOTE()\n",
    "# Oversample training and testing with SMOTE\n",
    "X_train_sm, y_train_sm = smt.fit_sample(X_train, y_train)\n",
    "X_test_sm, y_test_sm = smt.fit_sample(X_test, y_test)"
   ]
  },
  {
   "cell_type": "code",
   "execution_count": null,
   "metadata": {},
   "outputs": [],
   "source": [
    "# Instantiate the RandomForest Model\n",
    "rf2 = RandomForestClassifier(max_depth=15,\n",
    "                             min_samples_leaf=1,\n",
    "                             min_samples_split=6,\n",
    "                             n_estimators=100,\n",
    "                             random_state=42)\n",
    "# Fit the model to data\n",
    "rf2.fit(X_train_sm, y_train_sm)\n",
    "# Accuracy of training and testing\n",
    "print(f'accuracy of training set is {round(rf2.score(X_train_sm, y_train_sm),4)}')\n",
    "print(f'accuracy of testing set is {round(rf2.score(X_test_sm, y_test_sm),4)}')"
   ]
  }
 ],
 "metadata": {
  "kernelspec": {
   "display_name": "Python 3",
   "language": "python",
   "name": "python3"
  },
  "language_info": {
   "codemirror_mode": {
    "name": "ipython",
    "version": 3
   },
   "file_extension": ".py",
   "mimetype": "text/x-python",
   "name": "python",
   "nbconvert_exporter": "python",
   "pygments_lexer": "ipython3",
   "version": "3.7.4"
  }
 },
 "nbformat": 4,
 "nbformat_minor": 2
}
